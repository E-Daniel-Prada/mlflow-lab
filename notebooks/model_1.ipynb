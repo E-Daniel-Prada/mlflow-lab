{
 "cells": [
  {
   "cell_type": "code",
   "execution_count": 3,
   "id": "6c0fe52a-cfd5-4745-8a26-6421e572c021",
   "metadata": {},
   "outputs": [],
   "source": [
    "import psycopg2\n",
    "import numpy as np\n",
    "import pandas as pd\n",
    "from sklearn.model_selection import train_test_split\n",
    "from sklearn.linear_model import LogisticRegression\n",
    "from sklearn.metrics import accuracy_score\n",
    "import joblib\n",
    "from sklearn.preprocessing import StandardScaler\n",
    "from sklearn.decomposition import PCA\n",
    "from sklearn.ensemble import RandomForestClassifier\n",
    "from sklearn.metrics import accuracy_score\n",
    "from sklearn.metrics import accuracy_score, precision_score, recall_score, f1_score\n",
    "from sklearn.feature_selection import SelectKBest, f_classif\n",
    "import os"
   ]
  },
  {
   "cell_type": "code",
   "execution_count": 4,
   "id": "60f0424c-3724-490f-9245-3fcb49a93181",
   "metadata": {},
   "outputs": [],
   "source": [
    "import mlflow\n",
    "import mlflow.sklearn"
   ]
  },
  {
   "cell_type": "code",
   "execution_count": 7,
   "id": "3f4eb4fc-85f9-4562-9d4b-38302018a885",
   "metadata": {},
   "outputs": [],
   "source": [
    "#mlflow.set_tracking_uri(\"http://host.docker.internal:5000\")  # URL donde corre MLflow"
   ]
  },
  {
   "cell_type": "code",
   "execution_count": 6,
   "id": "f00770c1-ffa6-4ca5-be66-69fe32157794",
   "metadata": {},
   "outputs": [],
   "source": [
    "mlflow.set_tracking_uri(\"http://mlflow:5000\")"
   ]
  },
  {
   "cell_type": "code",
   "execution_count": 8,
   "id": "51a1a0f8-5f7e-4855-af67-7eeee1ca867d",
   "metadata": {},
   "outputs": [],
   "source": [
    "experiments = {exp.name: exp.experiment_id for exp in mlflow.search_experiments()}\n",
    "\n",
    "if \"random_forest_model\" in experiments:\n",
    "    mlflow.set_experiment(experiment_id=experiments[\"random_forest_model\"])\n",
    "else:\n",
    "    mlflow.create_experiment(\"random_forest_model\")\n",
    "    mlflow.set_experiment(\"random_forest_model\")"
   ]
  },
  {
   "cell_type": "code",
   "execution_count": 20,
   "id": "882ea73e-e2b9-4be1-8307-44a09afcb3c5",
   "metadata": {},
   "outputs": [],
   "source": [
    "# conn = psycopg2.connect(\n",
    "#     dbname='puj_mflow_models', user='postgres', password='postgres', host='db'\n",
    "# )\n",
    "# cursor = conn.cursor()"
   ]
  },
  {
   "cell_type": "code",
   "execution_count": 9,
   "id": "3eaca6b5-703d-43dc-b75a-253f3770a4e8",
   "metadata": {},
   "outputs": [],
   "source": [
    "_data_root = './data/'"
   ]
  },
  {
   "cell_type": "code",
   "execution_count": 10,
   "id": "07ed764b-9a9f-4f8d-9da1-9df861f82a40",
   "metadata": {},
   "outputs": [],
   "source": [
    "_data_filepath = os.path.join(_data_root, 'train_preprocessed.csv')"
   ]
  },
  {
   "cell_type": "code",
   "execution_count": 11,
   "id": "ce0f5110-414a-441e-8796-1f245b476276",
   "metadata": {},
   "outputs": [],
   "source": [
    "file_path = \"./data/train_preprocessed.csv\"\n",
    "df = pd.read_csv(file_path)"
   ]
  },
  {
   "cell_type": "code",
   "execution_count": 12,
   "id": "18a095b6-9010-4180-a02c-93c3fb622d95",
   "metadata": {},
   "outputs": [],
   "source": [
    "# Separar características y etiquetas\n",
    "X = df.drop(columns=[\"Cover_Type\"])\n",
    "y = df[\"Cover_Type\"]"
   ]
  },
  {
   "cell_type": "code",
   "execution_count": 13,
   "id": "d15fac39-ef18-4d02-a18c-1020c1d7f551",
   "metadata": {},
   "outputs": [
    {
     "data": {
      "text/html": [
       "<div>\n",
       "<style scoped>\n",
       "    .dataframe tbody tr th:only-of-type {\n",
       "        vertical-align: middle;\n",
       "    }\n",
       "\n",
       "    .dataframe tbody tr th {\n",
       "        vertical-align: top;\n",
       "    }\n",
       "\n",
       "    .dataframe thead th {\n",
       "        text-align: right;\n",
       "    }\n",
       "</style>\n",
       "<table border=\"1\" class=\"dataframe\">\n",
       "  <thead>\n",
       "    <tr style=\"text-align: right;\">\n",
       "      <th></th>\n",
       "      <th>Elevation</th>\n",
       "      <th>Aspect</th>\n",
       "      <th>Slope</th>\n",
       "      <th>Horizontal_Distance_To_Hydrology</th>\n",
       "      <th>Vertical_Distance_To_Hydrology</th>\n",
       "      <th>Horizontal_Distance_To_Roadways</th>\n",
       "      <th>Hillshade_9am</th>\n",
       "      <th>Hillshade_Noon</th>\n",
       "      <th>Hillshade_3pm</th>\n",
       "      <th>Horizontal_Distance_To_Fire_Points</th>\n",
       "      <th>...</th>\n",
       "      <th>Soil_Type_C7755</th>\n",
       "      <th>Soil_Type_C7756</th>\n",
       "      <th>Soil_Type_C7757</th>\n",
       "      <th>Soil_Type_C7790</th>\n",
       "      <th>Soil_Type_C8703</th>\n",
       "      <th>Soil_Type_C8707</th>\n",
       "      <th>Soil_Type_C8708</th>\n",
       "      <th>Soil_Type_C8771</th>\n",
       "      <th>Soil_Type_C8772</th>\n",
       "      <th>Soil_Type_C8776</th>\n",
       "    </tr>\n",
       "  </thead>\n",
       "  <tbody>\n",
       "    <tr>\n",
       "      <th>0</th>\n",
       "      <td>3305</td>\n",
       "      <td>35</td>\n",
       "      <td>13</td>\n",
       "      <td>134</td>\n",
       "      <td>25</td>\n",
       "      <td>5811</td>\n",
       "      <td>218</td>\n",
       "      <td>211</td>\n",
       "      <td>127</td>\n",
       "      <td>659</td>\n",
       "      <td>...</td>\n",
       "      <td>False</td>\n",
       "      <td>False</td>\n",
       "      <td>False</td>\n",
       "      <td>False</td>\n",
       "      <td>False</td>\n",
       "      <td>False</td>\n",
       "      <td>False</td>\n",
       "      <td>True</td>\n",
       "      <td>False</td>\n",
       "      <td>False</td>\n",
       "    </tr>\n",
       "    <tr>\n",
       "      <th>1</th>\n",
       "      <td>3295</td>\n",
       "      <td>332</td>\n",
       "      <td>10</td>\n",
       "      <td>934</td>\n",
       "      <td>160</td>\n",
       "      <td>924</td>\n",
       "      <td>196</td>\n",
       "      <td>227</td>\n",
       "      <td>170</td>\n",
       "      <td>2519</td>\n",
       "      <td>...</td>\n",
       "      <td>False</td>\n",
       "      <td>True</td>\n",
       "      <td>False</td>\n",
       "      <td>False</td>\n",
       "      <td>False</td>\n",
       "      <td>False</td>\n",
       "      <td>False</td>\n",
       "      <td>False</td>\n",
       "      <td>False</td>\n",
       "      <td>False</td>\n",
       "    </tr>\n",
       "    <tr>\n",
       "      <th>2</th>\n",
       "      <td>3320</td>\n",
       "      <td>339</td>\n",
       "      <td>12</td>\n",
       "      <td>711</td>\n",
       "      <td>106</td>\n",
       "      <td>979</td>\n",
       "      <td>195</td>\n",
       "      <td>223</td>\n",
       "      <td>167</td>\n",
       "      <td>2531</td>\n",
       "      <td>...</td>\n",
       "      <td>False</td>\n",
       "      <td>False</td>\n",
       "      <td>False</td>\n",
       "      <td>False</td>\n",
       "      <td>False</td>\n",
       "      <td>False</td>\n",
       "      <td>False</td>\n",
       "      <td>False</td>\n",
       "      <td>False</td>\n",
       "      <td>False</td>\n",
       "    </tr>\n",
       "    <tr>\n",
       "      <th>3</th>\n",
       "      <td>3321</td>\n",
       "      <td>16</td>\n",
       "      <td>14</td>\n",
       "      <td>785</td>\n",
       "      <td>193</td>\n",
       "      <td>3221</td>\n",
       "      <td>207</td>\n",
       "      <td>209</td>\n",
       "      <td>137</td>\n",
       "      <td>787</td>\n",
       "      <td>...</td>\n",
       "      <td>False</td>\n",
       "      <td>False</td>\n",
       "      <td>False</td>\n",
       "      <td>False</td>\n",
       "      <td>False</td>\n",
       "      <td>False</td>\n",
       "      <td>False</td>\n",
       "      <td>False</td>\n",
       "      <td>False</td>\n",
       "      <td>False</td>\n",
       "    </tr>\n",
       "    <tr>\n",
       "      <th>4</th>\n",
       "      <td>2959</td>\n",
       "      <td>233</td>\n",
       "      <td>17</td>\n",
       "      <td>190</td>\n",
       "      <td>85</td>\n",
       "      <td>1519</td>\n",
       "      <td>189</td>\n",
       "      <td>253</td>\n",
       "      <td>198</td>\n",
       "      <td>999</td>\n",
       "      <td>...</td>\n",
       "      <td>False</td>\n",
       "      <td>False</td>\n",
       "      <td>True</td>\n",
       "      <td>False</td>\n",
       "      <td>False</td>\n",
       "      <td>False</td>\n",
       "      <td>False</td>\n",
       "      <td>False</td>\n",
       "      <td>False</td>\n",
       "      <td>False</td>\n",
       "    </tr>\n",
       "    <tr>\n",
       "      <th>...</th>\n",
       "      <td>...</td>\n",
       "      <td>...</td>\n",
       "      <td>...</td>\n",
       "      <td>...</td>\n",
       "      <td>...</td>\n",
       "      <td>...</td>\n",
       "      <td>...</td>\n",
       "      <td>...</td>\n",
       "      <td>...</td>\n",
       "      <td>...</td>\n",
       "      <td>...</td>\n",
       "      <td>...</td>\n",
       "      <td>...</td>\n",
       "      <td>...</td>\n",
       "      <td>...</td>\n",
       "      <td>...</td>\n",
       "      <td>...</td>\n",
       "      <td>...</td>\n",
       "      <td>...</td>\n",
       "      <td>...</td>\n",
       "      <td>...</td>\n",
       "    </tr>\n",
       "    <tr>\n",
       "      <th>92957</th>\n",
       "      <td>2324</td>\n",
       "      <td>26</td>\n",
       "      <td>33</td>\n",
       "      <td>124</td>\n",
       "      <td>67</td>\n",
       "      <td>1473</td>\n",
       "      <td>185</td>\n",
       "      <td>150</td>\n",
       "      <td>81</td>\n",
       "      <td>1034</td>\n",
       "      <td>...</td>\n",
       "      <td>False</td>\n",
       "      <td>False</td>\n",
       "      <td>False</td>\n",
       "      <td>False</td>\n",
       "      <td>False</td>\n",
       "      <td>False</td>\n",
       "      <td>False</td>\n",
       "      <td>False</td>\n",
       "      <td>False</td>\n",
       "      <td>False</td>\n",
       "    </tr>\n",
       "    <tr>\n",
       "      <th>92958</th>\n",
       "      <td>2384</td>\n",
       "      <td>144</td>\n",
       "      <td>6</td>\n",
       "      <td>95</td>\n",
       "      <td>10</td>\n",
       "      <td>604</td>\n",
       "      <td>230</td>\n",
       "      <td>239</td>\n",
       "      <td>143</td>\n",
       "      <td>934</td>\n",
       "      <td>...</td>\n",
       "      <td>False</td>\n",
       "      <td>False</td>\n",
       "      <td>False</td>\n",
       "      <td>False</td>\n",
       "      <td>False</td>\n",
       "      <td>False</td>\n",
       "      <td>False</td>\n",
       "      <td>False</td>\n",
       "      <td>False</td>\n",
       "      <td>False</td>\n",
       "    </tr>\n",
       "    <tr>\n",
       "      <th>92959</th>\n",
       "      <td>3287</td>\n",
       "      <td>96</td>\n",
       "      <td>6</td>\n",
       "      <td>67</td>\n",
       "      <td>4</td>\n",
       "      <td>4496</td>\n",
       "      <td>231</td>\n",
       "      <td>231</td>\n",
       "      <td>133</td>\n",
       "      <td>3684</td>\n",
       "      <td>...</td>\n",
       "      <td>False</td>\n",
       "      <td>False</td>\n",
       "      <td>False</td>\n",
       "      <td>False</td>\n",
       "      <td>False</td>\n",
       "      <td>False</td>\n",
       "      <td>False</td>\n",
       "      <td>False</td>\n",
       "      <td>False</td>\n",
       "      <td>False</td>\n",
       "    </tr>\n",
       "    <tr>\n",
       "      <th>92960</th>\n",
       "      <td>2960</td>\n",
       "      <td>344</td>\n",
       "      <td>8</td>\n",
       "      <td>30</td>\n",
       "      <td>3</td>\n",
       "      <td>3193</td>\n",
       "      <td>205</td>\n",
       "      <td>228</td>\n",
       "      <td>162</td>\n",
       "      <td>1176</td>\n",
       "      <td>...</td>\n",
       "      <td>False</td>\n",
       "      <td>False</td>\n",
       "      <td>False</td>\n",
       "      <td>False</td>\n",
       "      <td>False</td>\n",
       "      <td>False</td>\n",
       "      <td>False</td>\n",
       "      <td>False</td>\n",
       "      <td>False</td>\n",
       "      <td>False</td>\n",
       "    </tr>\n",
       "    <tr>\n",
       "      <th>92961</th>\n",
       "      <td>3205</td>\n",
       "      <td>0</td>\n",
       "      <td>12</td>\n",
       "      <td>631</td>\n",
       "      <td>187</td>\n",
       "      <td>4507</td>\n",
       "      <td>202</td>\n",
       "      <td>217</td>\n",
       "      <td>152</td>\n",
       "      <td>2262</td>\n",
       "      <td>...</td>\n",
       "      <td>False</td>\n",
       "      <td>False</td>\n",
       "      <td>False</td>\n",
       "      <td>False</td>\n",
       "      <td>False</td>\n",
       "      <td>False</td>\n",
       "      <td>False</td>\n",
       "      <td>False</td>\n",
       "      <td>False</td>\n",
       "      <td>False</td>\n",
       "    </tr>\n",
       "  </tbody>\n",
       "</table>\n",
       "<p>92962 rows × 52 columns</p>\n",
       "</div>"
      ],
      "text/plain": [
       "       Elevation  Aspect  Slope  Horizontal_Distance_To_Hydrology  \\\n",
       "0           3305      35     13                               134   \n",
       "1           3295     332     10                               934   \n",
       "2           3320     339     12                               711   \n",
       "3           3321      16     14                               785   \n",
       "4           2959     233     17                               190   \n",
       "...          ...     ...    ...                               ...   \n",
       "92957       2324      26     33                               124   \n",
       "92958       2384     144      6                                95   \n",
       "92959       3287      96      6                                67   \n",
       "92960       2960     344      8                                30   \n",
       "92961       3205       0     12                               631   \n",
       "\n",
       "       Vertical_Distance_To_Hydrology  Horizontal_Distance_To_Roadways  \\\n",
       "0                                  25                             5811   \n",
       "1                                 160                              924   \n",
       "2                                 106                              979   \n",
       "3                                 193                             3221   \n",
       "4                                  85                             1519   \n",
       "...                               ...                              ...   \n",
       "92957                              67                             1473   \n",
       "92958                              10                              604   \n",
       "92959                               4                             4496   \n",
       "92960                               3                             3193   \n",
       "92961                             187                             4507   \n",
       "\n",
       "       Hillshade_9am  Hillshade_Noon  Hillshade_3pm  \\\n",
       "0                218             211            127   \n",
       "1                196             227            170   \n",
       "2                195             223            167   \n",
       "3                207             209            137   \n",
       "4                189             253            198   \n",
       "...              ...             ...            ...   \n",
       "92957            185             150             81   \n",
       "92958            230             239            143   \n",
       "92959            231             231            133   \n",
       "92960            205             228            162   \n",
       "92961            202             217            152   \n",
       "\n",
       "       Horizontal_Distance_To_Fire_Points  ...  Soil_Type_C7755  \\\n",
       "0                                     659  ...            False   \n",
       "1                                    2519  ...            False   \n",
       "2                                    2531  ...            False   \n",
       "3                                     787  ...            False   \n",
       "4                                     999  ...            False   \n",
       "...                                   ...  ...              ...   \n",
       "92957                                1034  ...            False   \n",
       "92958                                 934  ...            False   \n",
       "92959                                3684  ...            False   \n",
       "92960                                1176  ...            False   \n",
       "92961                                2262  ...            False   \n",
       "\n",
       "       Soil_Type_C7756  Soil_Type_C7757  Soil_Type_C7790  Soil_Type_C8703  \\\n",
       "0                False            False            False            False   \n",
       "1                 True            False            False            False   \n",
       "2                False            False            False            False   \n",
       "3                False            False            False            False   \n",
       "4                False             True            False            False   \n",
       "...                ...              ...              ...              ...   \n",
       "92957            False            False            False            False   \n",
       "92958            False            False            False            False   \n",
       "92959            False            False            False            False   \n",
       "92960            False            False            False            False   \n",
       "92961            False            False            False            False   \n",
       "\n",
       "       Soil_Type_C8707  Soil_Type_C8708  Soil_Type_C8771  Soil_Type_C8772  \\\n",
       "0                False            False             True            False   \n",
       "1                False            False            False            False   \n",
       "2                False            False            False            False   \n",
       "3                False            False            False            False   \n",
       "4                False            False            False            False   \n",
       "...                ...              ...              ...              ...   \n",
       "92957            False            False            False            False   \n",
       "92958            False            False            False            False   \n",
       "92959            False            False            False            False   \n",
       "92960            False            False            False            False   \n",
       "92961            False            False            False            False   \n",
       "\n",
       "       Soil_Type_C8776  \n",
       "0                False  \n",
       "1                False  \n",
       "2                False  \n",
       "3                False  \n",
       "4                False  \n",
       "...                ...  \n",
       "92957            False  \n",
       "92958            False  \n",
       "92959            False  \n",
       "92960            False  \n",
       "92961            False  \n",
       "\n",
       "[92962 rows x 52 columns]"
      ]
     },
     "execution_count": 13,
     "metadata": {},
     "output_type": "execute_result"
    }
   ],
   "source": [
    "X = pd.get_dummies(X, drop_first=True)\n",
    "X"
   ]
  },
  {
   "cell_type": "code",
   "execution_count": 14,
   "id": "f55bcdde-b4aa-4f67-99c8-b6cb7285eb8f",
   "metadata": {},
   "outputs": [],
   "source": [
    "X_train, X_test, y_train, y_test = train_test_split(X, y, test_size=0.2, random_state=42)"
   ]
  },
  {
   "cell_type": "code",
   "execution_count": 15,
   "id": "957e18b2-93c1-41b1-8f89-4ae774de6bc9",
   "metadata": {},
   "outputs": [],
   "source": [
    "# Definir hiperparámetros a probar\n",
    "n_estimators_list = [10, 50, 100, 200]\n",
    "max_depth_list = [None, 5, 10, 20]"
   ]
  },
  {
   "cell_type": "code",
   "execution_count": 16,
   "id": "d74d59d9-cbdd-4e72-ae94-14d987d56e84",
   "metadata": {},
   "outputs": [
    {
     "name": "stderr",
     "output_type": "stream",
     "text": [
      "\u001b[31m2025/03/19 04:05:28 WARNING mlflow.models.model: Model logged without a signature and input example. Please set `input_example` parameter when logging the model to auto infer the model signature.\u001b[0m\n"
     ]
    },
    {
     "name": "stdout",
     "output_type": "stream",
     "text": [
      "n_estimators=10, max_depth=None, Accuracy=0.87796\n",
      "🏃 View run orderly-mouse-524 at: http://mlflow:5000/#/experiments/1/runs/aaeb94dda9a44c0aa386ad12a6623441\n",
      "🧪 View experiment at: http://mlflow:5000/#/experiments/1\n"
     ]
    },
    {
     "name": "stderr",
     "output_type": "stream",
     "text": [
      "\u001b[31m2025/03/19 04:05:31 WARNING mlflow.models.model: Model logged without a signature and input example. Please set `input_example` parameter when logging the model to auto infer the model signature.\u001b[0m\n"
     ]
    },
    {
     "name": "stdout",
     "output_type": "stream",
     "text": [
      "n_estimators=10, max_depth=5, Accuracy=0.67230\n",
      "🏃 View run melodic-bug-469 at: http://mlflow:5000/#/experiments/1/runs/6a656021c8524094ab5a290471daeda1\n",
      "🧪 View experiment at: http://mlflow:5000/#/experiments/1\n"
     ]
    },
    {
     "name": "stderr",
     "output_type": "stream",
     "text": [
      "\u001b[31m2025/03/19 04:05:34 WARNING mlflow.models.model: Model logged without a signature and input example. Please set `input_example` parameter when logging the model to auto infer the model signature.\u001b[0m\n"
     ]
    },
    {
     "name": "stdout",
     "output_type": "stream",
     "text": [
      "n_estimators=10, max_depth=10, Accuracy=0.75227\n",
      "🏃 View run clean-midge-659 at: http://mlflow:5000/#/experiments/1/runs/8f96fdcd1cdb4418b177088228e23622\n",
      "🧪 View experiment at: http://mlflow:5000/#/experiments/1\n"
     ]
    },
    {
     "name": "stderr",
     "output_type": "stream",
     "text": [
      "\u001b[31m2025/03/19 04:05:38 WARNING mlflow.models.model: Model logged without a signature and input example. Please set `input_example` parameter when logging the model to auto infer the model signature.\u001b[0m\n"
     ]
    },
    {
     "name": "stdout",
     "output_type": "stream",
     "text": [
      "n_estimators=10, max_depth=20, Accuracy=0.85349\n",
      "🏃 View run painted-deer-629 at: http://mlflow:5000/#/experiments/1/runs/058c49fdeb9644d78a4c42c76527d4fc\n",
      "🧪 View experiment at: http://mlflow:5000/#/experiments/1\n"
     ]
    },
    {
     "name": "stderr",
     "output_type": "stream",
     "text": [
      "\u001b[31m2025/03/19 04:05:46 WARNING mlflow.models.model: Model logged without a signature and input example. Please set `input_example` parameter when logging the model to auto infer the model signature.\u001b[0m\n"
     ]
    },
    {
     "name": "stdout",
     "output_type": "stream",
     "text": [
      "n_estimators=50, max_depth=None, Accuracy=0.89932\n",
      "🏃 View run lyrical-shrimp-67 at: http://mlflow:5000/#/experiments/1/runs/5f1fc08940944174b4a4e0900d16f590\n",
      "🧪 View experiment at: http://mlflow:5000/#/experiments/1\n"
     ]
    },
    {
     "name": "stderr",
     "output_type": "stream",
     "text": [
      "\u001b[31m2025/03/19 04:05:50 WARNING mlflow.models.model: Model logged without a signature and input example. Please set `input_example` parameter when logging the model to auto infer the model signature.\u001b[0m\n"
     ]
    },
    {
     "name": "stdout",
     "output_type": "stream",
     "text": [
      "n_estimators=50, max_depth=5, Accuracy=0.67240\n",
      "🏃 View run stylish-stag-233 at: http://mlflow:5000/#/experiments/1/runs/406edd2428d14b8cb57324feb92779a9\n",
      "🧪 View experiment at: http://mlflow:5000/#/experiments/1\n"
     ]
    },
    {
     "name": "stderr",
     "output_type": "stream",
     "text": [
      "\u001b[31m2025/03/19 04:05:55 WARNING mlflow.models.model: Model logged without a signature and input example. Please set `input_example` parameter when logging the model to auto infer the model signature.\u001b[0m\n"
     ]
    },
    {
     "name": "stdout",
     "output_type": "stream",
     "text": [
      "n_estimators=50, max_depth=10, Accuracy=0.74878\n",
      "🏃 View run abrasive-rat-631 at: http://mlflow:5000/#/experiments/1/runs/8fc25d780318437a9e6a01e56479574c\n",
      "🧪 View experiment at: http://mlflow:5000/#/experiments/1\n"
     ]
    },
    {
     "name": "stderr",
     "output_type": "stream",
     "text": [
      "\u001b[31m2025/03/19 04:06:02 WARNING mlflow.models.model: Model logged without a signature and input example. Please set `input_example` parameter when logging the model to auto infer the model signature.\u001b[0m\n"
     ]
    },
    {
     "name": "stdout",
     "output_type": "stream",
     "text": [
      "n_estimators=50, max_depth=20, Accuracy=0.85758\n",
      "🏃 View run tasteful-lark-386 at: http://mlflow:5000/#/experiments/1/runs/d32d0ccc45f84559bf74d8b8a6626013\n",
      "🧪 View experiment at: http://mlflow:5000/#/experiments/1\n"
     ]
    },
    {
     "name": "stderr",
     "output_type": "stream",
     "text": [
      "\u001b[31m2025/03/19 04:06:17 WARNING mlflow.models.model: Model logged without a signature and input example. Please set `input_example` parameter when logging the model to auto infer the model signature.\u001b[0m\n"
     ]
    },
    {
     "name": "stdout",
     "output_type": "stream",
     "text": [
      "n_estimators=100, max_depth=None, Accuracy=0.90238\n",
      "🏃 View run handsome-rat-469 at: http://mlflow:5000/#/experiments/1/runs/0a95d5562255461291d25dc0a515e2bb\n",
      "🧪 View experiment at: http://mlflow:5000/#/experiments/1\n"
     ]
    },
    {
     "name": "stderr",
     "output_type": "stream",
     "text": [
      "\u001b[31m2025/03/19 04:06:22 WARNING mlflow.models.model: Model logged without a signature and input example. Please set `input_example` parameter when logging the model to auto infer the model signature.\u001b[0m\n"
     ]
    },
    {
     "name": "stdout",
     "output_type": "stream",
     "text": [
      "n_estimators=100, max_depth=5, Accuracy=0.66966\n",
      "🏃 View run invincible-fawn-4 at: http://mlflow:5000/#/experiments/1/runs/72e1bd0f991c4dbc89efdbc76df9d8e6\n",
      "🧪 View experiment at: http://mlflow:5000/#/experiments/1\n"
     ]
    },
    {
     "name": "stderr",
     "output_type": "stream",
     "text": [
      "\u001b[31m2025/03/19 04:06:29 WARNING mlflow.models.model: Model logged without a signature and input example. Please set `input_example` parameter when logging the model to auto infer the model signature.\u001b[0m\n"
     ]
    },
    {
     "name": "stdout",
     "output_type": "stream",
     "text": [
      "n_estimators=100, max_depth=10, Accuracy=0.75260\n",
      "🏃 View run bedecked-conch-889 at: http://mlflow:5000/#/experiments/1/runs/a30c60f23ee74f698c8534d270b4794e\n",
      "🧪 View experiment at: http://mlflow:5000/#/experiments/1\n"
     ]
    },
    {
     "name": "stderr",
     "output_type": "stream",
     "text": [
      "\u001b[31m2025/03/19 04:06:40 WARNING mlflow.models.model: Model logged without a signature and input example. Please set `input_example` parameter when logging the model to auto infer the model signature.\u001b[0m\n"
     ]
    },
    {
     "name": "stdout",
     "output_type": "stream",
     "text": [
      "n_estimators=100, max_depth=20, Accuracy=0.86086\n",
      "🏃 View run receptive-horse-725 at: http://mlflow:5000/#/experiments/1/runs/c03ed5e794e14bc58044f874896274cf\n",
      "🧪 View experiment at: http://mlflow:5000/#/experiments/1\n"
     ]
    },
    {
     "name": "stderr",
     "output_type": "stream",
     "text": [
      "\u001b[31m2025/03/19 04:07:07 WARNING mlflow.models.model: Model logged without a signature and input example. Please set `input_example` parameter when logging the model to auto infer the model signature.\u001b[0m\n"
     ]
    },
    {
     "name": "stdout",
     "output_type": "stream",
     "text": [
      "n_estimators=200, max_depth=None, Accuracy=0.90131\n",
      "🏃 View run victorious-perch-523 at: http://mlflow:5000/#/experiments/1/runs/696080d01e46419f8b15696a750d6ffb\n",
      "🧪 View experiment at: http://mlflow:5000/#/experiments/1\n"
     ]
    },
    {
     "name": "stderr",
     "output_type": "stream",
     "text": [
      "\u001b[31m2025/03/19 04:07:15 WARNING mlflow.models.model: Model logged without a signature and input example. Please set `input_example` parameter when logging the model to auto infer the model signature.\u001b[0m\n"
     ]
    },
    {
     "name": "stdout",
     "output_type": "stream",
     "text": [
      "n_estimators=200, max_depth=5, Accuracy=0.66955\n",
      "🏃 View run wise-jay-111 at: http://mlflow:5000/#/experiments/1/runs/347c58f5003e46f58adc9e7d1d33fecd\n",
      "🧪 View experiment at: http://mlflow:5000/#/experiments/1\n"
     ]
    },
    {
     "name": "stderr",
     "output_type": "stream",
     "text": [
      "\u001b[31m2025/03/19 04:07:27 WARNING mlflow.models.model: Model logged without a signature and input example. Please set `input_example` parameter when logging the model to auto infer the model signature.\u001b[0m\n"
     ]
    },
    {
     "name": "stdout",
     "output_type": "stream",
     "text": [
      "n_estimators=200, max_depth=10, Accuracy=0.75464\n",
      "🏃 View run learned-shoat-104 at: http://mlflow:5000/#/experiments/1/runs/3b7ce6ff5b0742bba7be10079201cb43\n",
      "🧪 View experiment at: http://mlflow:5000/#/experiments/1\n"
     ]
    },
    {
     "name": "stderr",
     "output_type": "stream",
     "text": [
      "\u001b[31m2025/03/19 04:07:48 WARNING mlflow.models.model: Model logged without a signature and input example. Please set `input_example` parameter when logging the model to auto infer the model signature.\u001b[0m\n"
     ]
    },
    {
     "name": "stdout",
     "output_type": "stream",
     "text": [
      "n_estimators=200, max_depth=20, Accuracy=0.85952\n",
      "🏃 View run abrasive-bird-997 at: http://mlflow:5000/#/experiments/1/runs/d761c589d7ae49aa98cfcf89bac6491e\n",
      "🧪 View experiment at: http://mlflow:5000/#/experiments/1\n"
     ]
    }
   ],
   "source": [
    "for n_estimators in n_estimators_list:\n",
    "    for max_depth in max_depth_list:\n",
    "        with mlflow.start_run():  # Iniciar un experimento en MLflow\n",
    "            # Crear y entrenar modelo\n",
    "            model = RandomForestClassifier(n_estimators=n_estimators, max_depth=max_depth, random_state=42)\n",
    "            model.fit(X_train, y_train)\n",
    "            y_pred = model.predict(X_test)\n",
    "            acc = accuracy_score(y_test, y_pred)\n",
    "\n",
    "            # # Guardar resultados en la base de datos\n",
    "            # cursor.execute(\n",
    "            #     \"INSERT INTO experiment_results (n_estimators, max_depth, accuracy) VALUES (%s, %s, %s)\",\n",
    "            #     (n_estimators, max_depth, acc)\n",
    "            # )\n",
    "            # conn.commit()\n",
    "\n",
    "            # Registrar parámetros y métricas en MLflow\n",
    "            mlflow.log_param(\"n_estimators\", n_estimators)\n",
    "            mlflow.log_param(\"max_depth\", max_depth)\n",
    "            mlflow.log_metric(\"accuracy\", acc)\n",
    "            mlflow.sklearn.log_model(model, \"random_forest_model\")\n",
    "\n",
    "            print(f'n_estimators={n_estimators}, max_depth={max_depth}, Accuracy={acc:.5f}')\n"
   ]
  },
  {
   "cell_type": "code",
   "execution_count": 17,
   "id": "a6a77c64-1c6f-45fa-9125-4c050959970e",
   "metadata": {},
   "outputs": [
    {
     "data": {
      "text/html": [
       "<style>#sk-container-id-1 {color: black;}#sk-container-id-1 pre{padding: 0;}#sk-container-id-1 div.sk-toggleable {background-color: white;}#sk-container-id-1 label.sk-toggleable__label {cursor: pointer;display: block;width: 100%;margin-bottom: 0;padding: 0.3em;box-sizing: border-box;text-align: center;}#sk-container-id-1 label.sk-toggleable__label-arrow:before {content: \"▸\";float: left;margin-right: 0.25em;color: #696969;}#sk-container-id-1 label.sk-toggleable__label-arrow:hover:before {color: black;}#sk-container-id-1 div.sk-estimator:hover label.sk-toggleable__label-arrow:before {color: black;}#sk-container-id-1 div.sk-toggleable__content {max-height: 0;max-width: 0;overflow: hidden;text-align: left;background-color: #f0f8ff;}#sk-container-id-1 div.sk-toggleable__content pre {margin: 0.2em;color: black;border-radius: 0.25em;background-color: #f0f8ff;}#sk-container-id-1 input.sk-toggleable__control:checked~div.sk-toggleable__content {max-height: 200px;max-width: 100%;overflow: auto;}#sk-container-id-1 input.sk-toggleable__control:checked~label.sk-toggleable__label-arrow:before {content: \"▾\";}#sk-container-id-1 div.sk-estimator input.sk-toggleable__control:checked~label.sk-toggleable__label {background-color: #d4ebff;}#sk-container-id-1 div.sk-label input.sk-toggleable__control:checked~label.sk-toggleable__label {background-color: #d4ebff;}#sk-container-id-1 input.sk-hidden--visually {border: 0;clip: rect(1px 1px 1px 1px);clip: rect(1px, 1px, 1px, 1px);height: 1px;margin: -1px;overflow: hidden;padding: 0;position: absolute;width: 1px;}#sk-container-id-1 div.sk-estimator {font-family: monospace;background-color: #f0f8ff;border: 1px dotted black;border-radius: 0.25em;box-sizing: border-box;margin-bottom: 0.5em;}#sk-container-id-1 div.sk-estimator:hover {background-color: #d4ebff;}#sk-container-id-1 div.sk-parallel-item::after {content: \"\";width: 100%;border-bottom: 1px solid gray;flex-grow: 1;}#sk-container-id-1 div.sk-label:hover label.sk-toggleable__label {background-color: #d4ebff;}#sk-container-id-1 div.sk-serial::before {content: \"\";position: absolute;border-left: 1px solid gray;box-sizing: border-box;top: 0;bottom: 0;left: 50%;z-index: 0;}#sk-container-id-1 div.sk-serial {display: flex;flex-direction: column;align-items: center;background-color: white;padding-right: 0.2em;padding-left: 0.2em;position: relative;}#sk-container-id-1 div.sk-item {position: relative;z-index: 1;}#sk-container-id-1 div.sk-parallel {display: flex;align-items: stretch;justify-content: center;background-color: white;position: relative;}#sk-container-id-1 div.sk-item::before, #sk-container-id-1 div.sk-parallel-item::before {content: \"\";position: absolute;border-left: 1px solid gray;box-sizing: border-box;top: 0;bottom: 0;left: 50%;z-index: -1;}#sk-container-id-1 div.sk-parallel-item {display: flex;flex-direction: column;z-index: 1;position: relative;background-color: white;}#sk-container-id-1 div.sk-parallel-item:first-child::after {align-self: flex-end;width: 50%;}#sk-container-id-1 div.sk-parallel-item:last-child::after {align-self: flex-start;width: 50%;}#sk-container-id-1 div.sk-parallel-item:only-child::after {width: 0;}#sk-container-id-1 div.sk-dashed-wrapped {border: 1px dashed gray;margin: 0 0.4em 0.5em 0.4em;box-sizing: border-box;padding-bottom: 0.4em;background-color: white;}#sk-container-id-1 div.sk-label label {font-family: monospace;font-weight: bold;display: inline-block;line-height: 1.2em;}#sk-container-id-1 div.sk-label-container {text-align: center;}#sk-container-id-1 div.sk-container {/* jupyter's `normalize.less` sets `[hidden] { display: none; }` but bootstrap.min.css set `[hidden] { display: none !important; }` so we also need the `!important` here to be able to override the default hidden behavior on the sphinx rendered scikit-learn.org. See: https://github.com/scikit-learn/scikit-learn/issues/21755 */display: inline-block !important;position: relative;}#sk-container-id-1 div.sk-text-repr-fallback {display: none;}</style><div id=\"sk-container-id-1\" class=\"sk-top-container\"><div class=\"sk-text-repr-fallback\"><pre>RandomForestClassifier(random_state=42)</pre><b>In a Jupyter environment, please rerun this cell to show the HTML representation or trust the notebook. <br />On GitHub, the HTML representation is unable to render, please try loading this page with nbviewer.org.</b></div><div class=\"sk-container\" hidden><div class=\"sk-item\"><div class=\"sk-estimator sk-toggleable\"><input class=\"sk-toggleable__control sk-hidden--visually\" id=\"sk-estimator-id-1\" type=\"checkbox\" checked><label for=\"sk-estimator-id-1\" class=\"sk-toggleable__label sk-toggleable__label-arrow\">RandomForestClassifier</label><div class=\"sk-toggleable__content\"><pre>RandomForestClassifier(random_state=42)</pre></div></div></div></div></div>"
      ],
      "text/plain": [
       "RandomForestClassifier(random_state=42)"
      ]
     },
     "execution_count": 17,
     "metadata": {},
     "output_type": "execute_result"
    }
   ],
   "source": [
    "# Entrenamiento del modelo\n",
    "model = RandomForestClassifier(n_estimators=100, random_state=42)\n",
    "model.fit(X_train, y_train)"
   ]
  },
  {
   "cell_type": "code",
   "execution_count": 18,
   "id": "d74b95cb-49c2-41cd-9af7-b9a8fd34d167",
   "metadata": {},
   "outputs": [
    {
     "name": "stdout",
     "output_type": "stream",
     "text": [
      "Precisión del modelo: 0.9024\n",
      "Precisión: 0.9028\n",
      "Sensibilidad (Recall): 0.9024\n",
      "Puntaje F1: 0.9012\n"
     ]
    }
   ],
   "source": [
    "# Predicción y evaluación\n",
    "y_pred = model.predict(X_test)\n",
    "accuracy = accuracy_score(y_test, y_pred)\n",
    "precision = precision_score(y_test, y_pred, average='weighted')\n",
    "recall = recall_score(y_test, y_pred, average='weighted')\n",
    "f1 = f1_score(y_test, y_pred, average='weighted')\n",
    "\n",
    "print(f\"Precisión del modelo: {accuracy:.4f}\")\n",
    "print(f\"Precisión: {precision:.4f}\")\n",
    "print(f\"Sensibilidad (Recall): {recall:.4f}\")\n",
    "print(f\"Puntaje F1: {f1:.4f}\")"
   ]
  },
  {
   "cell_type": "code",
   "execution_count": null,
   "id": "408a60ac-c235-4c35-b1dd-99d4c168f783",
   "metadata": {},
   "outputs": [],
   "source": []
  }
 ],
 "metadata": {
  "kernelspec": {
   "display_name": "Python 3 (ipykernel)",
   "language": "python",
   "name": "python3"
  },
  "language_info": {
   "codemirror_mode": {
    "name": "ipython",
    "version": 3
   },
   "file_extension": ".py",
   "mimetype": "text/x-python",
   "name": "python",
   "nbconvert_exporter": "python",
   "pygments_lexer": "ipython3",
   "version": "3.11.6"
  }
 },
 "nbformat": 4,
 "nbformat_minor": 5
}
